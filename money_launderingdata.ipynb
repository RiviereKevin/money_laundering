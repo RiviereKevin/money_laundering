{
  "nbformat": 4,
  "nbformat_minor": 0,
  "metadata": {
    "colab": {
      "provenance": [],
      "authorship_tag": "ABX9TyN4t7DaIVtKC1pHemYjQw1D",
      "include_colab_link": true
    },
    "kernelspec": {
      "name": "python3",
      "display_name": "Python 3"
    },
    "language_info": {
      "name": "python"
    }
  },
  "cells": [
    {
      "cell_type": "markdown",
      "metadata": {
        "id": "view-in-github",
        "colab_type": "text"
      },
      "source": [
        "<a href=\"https://colab.research.google.com/github/RiviereKevin/money_laundering/blob/Code%26Model/money_launderingdata.ipynb\" target=\"_parent\"><img src=\"https://colab.research.google.com/assets/colab-badge.svg\" alt=\"Open In Colab\"/></a>"
      ]
    },
    {
      "cell_type": "markdown",
      "source": [
        "Create a model to detect money laundering using the features of a transaction.\n",
        "Generate a confusion matrix, recall and Precision"
      ],
      "metadata": {
        "id": "uLIXr4JNa65G"
      }
    },
    {
      "cell_type": "code",
      "source": [
        "from google.colab import drive\n",
        "drive.mount('/content/drive')"
      ],
      "metadata": {
        "colab": {
          "base_uri": "https://localhost:8080/"
        },
        "id": "MbXx_qPza9Df",
        "outputId": "72d0ef09-b49c-4dd3-ab9f-70e465d61016"
      },
      "execution_count": null,
      "outputs": [
        {
          "output_type": "stream",
          "name": "stdout",
          "text": [
            "Drive already mounted at /content/drive; to attempt to forcibly remount, call drive.mount(\"/content/drive\", force_remount=True).\n"
          ]
        }
      ]
    },
    {
      "cell_type": "code",
      "source": [
        "import pandas as pd"
      ],
      "metadata": {
        "id": "0qTLixHcbvcG"
      },
      "execution_count": null,
      "outputs": []
    },
    {
      "cell_type": "code",
      "source": [
        "data = pd.read_csv('/content/ML.csv')"
      ],
      "metadata": {
        "id": "WhdgFQ8-bxza"
      },
      "execution_count": null,
      "outputs": []
    },
    {
      "cell_type": "code",
      "source": [
        "data.head(5)"
      ],
      "metadata": {
        "colab": {
          "base_uri": "https://localhost:8080/",
          "height": 206
        },
        "id": "iRqC8L0VcTrm",
        "outputId": "f6ad247c-42f0-465a-acaa-719b93273397"
      },
      "execution_count": null,
      "outputs": [
        {
          "output_type": "execute_result",
          "data": {
            "text/plain": [
              "  typeofaction  sourceid  ...  isfraud  typeoffraud\n",
              "0      cash-in     30105  ...        1        type1\n",
              "1      cash-in     30105  ...        1        type1\n",
              "2      cash-in     30105  ...        1        type1\n",
              "3      cash-in     30105  ...        1        type1\n",
              "4      cash-in     30105  ...        1        type1\n",
              "\n",
              "[5 rows x 7 columns]"
            ],
            "text/html": [
              "\n",
              "  <div id=\"df-940e9026-6ced-4b1b-909a-ae5c3127a3d6\">\n",
              "    <div class=\"colab-df-container\">\n",
              "      <div>\n",
              "<style scoped>\n",
              "    .dataframe tbody tr th:only-of-type {\n",
              "        vertical-align: middle;\n",
              "    }\n",
              "\n",
              "    .dataframe tbody tr th {\n",
              "        vertical-align: top;\n",
              "    }\n",
              "\n",
              "    .dataframe thead th {\n",
              "        text-align: right;\n",
              "    }\n",
              "</style>\n",
              "<table border=\"1\" class=\"dataframe\">\n",
              "  <thead>\n",
              "    <tr style=\"text-align: right;\">\n",
              "      <th></th>\n",
              "      <th>typeofaction</th>\n",
              "      <th>sourceid</th>\n",
              "      <th>destinationid</th>\n",
              "      <th>amountofmoney</th>\n",
              "      <th>date</th>\n",
              "      <th>isfraud</th>\n",
              "      <th>typeoffraud</th>\n",
              "    </tr>\n",
              "  </thead>\n",
              "  <tbody>\n",
              "    <tr>\n",
              "      <th>0</th>\n",
              "      <td>cash-in</td>\n",
              "      <td>30105</td>\n",
              "      <td>28942</td>\n",
              "      <td>494528</td>\n",
              "      <td>2019-07-19 14:40:00</td>\n",
              "      <td>1</td>\n",
              "      <td>type1</td>\n",
              "    </tr>\n",
              "    <tr>\n",
              "      <th>1</th>\n",
              "      <td>cash-in</td>\n",
              "      <td>30105</td>\n",
              "      <td>8692</td>\n",
              "      <td>494528</td>\n",
              "      <td>2019-05-17 14:57:00</td>\n",
              "      <td>1</td>\n",
              "      <td>type1</td>\n",
              "    </tr>\n",
              "    <tr>\n",
              "      <th>2</th>\n",
              "      <td>cash-in</td>\n",
              "      <td>30105</td>\n",
              "      <td>60094</td>\n",
              "      <td>494528</td>\n",
              "      <td>2019-07-20 13:20:00</td>\n",
              "      <td>1</td>\n",
              "      <td>type1</td>\n",
              "    </tr>\n",
              "    <tr>\n",
              "      <th>3</th>\n",
              "      <td>cash-in</td>\n",
              "      <td>30105</td>\n",
              "      <td>20575</td>\n",
              "      <td>494528</td>\n",
              "      <td>2019-07-03 14:15:00</td>\n",
              "      <td>1</td>\n",
              "      <td>type1</td>\n",
              "    </tr>\n",
              "    <tr>\n",
              "      <th>4</th>\n",
              "      <td>cash-in</td>\n",
              "      <td>30105</td>\n",
              "      <td>45938</td>\n",
              "      <td>494528</td>\n",
              "      <td>2019-05-26 10:40:00</td>\n",
              "      <td>1</td>\n",
              "      <td>type1</td>\n",
              "    </tr>\n",
              "  </tbody>\n",
              "</table>\n",
              "</div>\n",
              "      <button class=\"colab-df-convert\" onclick=\"convertToInteractive('df-940e9026-6ced-4b1b-909a-ae5c3127a3d6')\"\n",
              "              title=\"Convert this dataframe to an interactive table.\"\n",
              "              style=\"display:none;\">\n",
              "        \n",
              "  <svg xmlns=\"http://www.w3.org/2000/svg\" height=\"24px\"viewBox=\"0 0 24 24\"\n",
              "       width=\"24px\">\n",
              "    <path d=\"M0 0h24v24H0V0z\" fill=\"none\"/>\n",
              "    <path d=\"M18.56 5.44l.94 2.06.94-2.06 2.06-.94-2.06-.94-.94-2.06-.94 2.06-2.06.94zm-11 1L8.5 8.5l.94-2.06 2.06-.94-2.06-.94L8.5 2.5l-.94 2.06-2.06.94zm10 10l.94 2.06.94-2.06 2.06-.94-2.06-.94-.94-2.06-.94 2.06-2.06.94z\"/><path d=\"M17.41 7.96l-1.37-1.37c-.4-.4-.92-.59-1.43-.59-.52 0-1.04.2-1.43.59L10.3 9.45l-7.72 7.72c-.78.78-.78 2.05 0 2.83L4 21.41c.39.39.9.59 1.41.59.51 0 1.02-.2 1.41-.59l7.78-7.78 2.81-2.81c.8-.78.8-2.07 0-2.86zM5.41 20L4 18.59l7.72-7.72 1.47 1.35L5.41 20z\"/>\n",
              "  </svg>\n",
              "      </button>\n",
              "      \n",
              "  <style>\n",
              "    .colab-df-container {\n",
              "      display:flex;\n",
              "      flex-wrap:wrap;\n",
              "      gap: 12px;\n",
              "    }\n",
              "\n",
              "    .colab-df-convert {\n",
              "      background-color: #E8F0FE;\n",
              "      border: none;\n",
              "      border-radius: 50%;\n",
              "      cursor: pointer;\n",
              "      display: none;\n",
              "      fill: #1967D2;\n",
              "      height: 32px;\n",
              "      padding: 0 0 0 0;\n",
              "      width: 32px;\n",
              "    }\n",
              "\n",
              "    .colab-df-convert:hover {\n",
              "      background-color: #E2EBFA;\n",
              "      box-shadow: 0px 1px 2px rgba(60, 64, 67, 0.3), 0px 1px 3px 1px rgba(60, 64, 67, 0.15);\n",
              "      fill: #174EA6;\n",
              "    }\n",
              "\n",
              "    [theme=dark] .colab-df-convert {\n",
              "      background-color: #3B4455;\n",
              "      fill: #D2E3FC;\n",
              "    }\n",
              "\n",
              "    [theme=dark] .colab-df-convert:hover {\n",
              "      background-color: #434B5C;\n",
              "      box-shadow: 0px 1px 3px 1px rgba(0, 0, 0, 0.15);\n",
              "      filter: drop-shadow(0px 1px 2px rgba(0, 0, 0, 0.3));\n",
              "      fill: #FFFFFF;\n",
              "    }\n",
              "  </style>\n",
              "\n",
              "      <script>\n",
              "        const buttonEl =\n",
              "          document.querySelector('#df-940e9026-6ced-4b1b-909a-ae5c3127a3d6 button.colab-df-convert');\n",
              "        buttonEl.style.display =\n",
              "          google.colab.kernel.accessAllowed ? 'block' : 'none';\n",
              "\n",
              "        async function convertToInteractive(key) {\n",
              "          const element = document.querySelector('#df-940e9026-6ced-4b1b-909a-ae5c3127a3d6');\n",
              "          const dataTable =\n",
              "            await google.colab.kernel.invokeFunction('convertToInteractive',\n",
              "                                                     [key], {});\n",
              "          if (!dataTable) return;\n",
              "\n",
              "          const docLinkHtml = 'Like what you see? Visit the ' +\n",
              "            '<a target=\"_blank\" href=https://colab.research.google.com/notebooks/data_table.ipynb>data table notebook</a>'\n",
              "            + ' to learn more about interactive tables.';\n",
              "          element.innerHTML = '';\n",
              "          dataTable['output_type'] = 'display_data';\n",
              "          await google.colab.output.renderOutput(dataTable, element);\n",
              "          const docLink = document.createElement('div');\n",
              "          docLink.innerHTML = docLinkHtml;\n",
              "          element.appendChild(docLink);\n",
              "        }\n",
              "      </script>\n",
              "    </div>\n",
              "  </div>\n",
              "  "
            ]
          },
          "metadata": {},
          "execution_count": 119
        }
      ]
    },
    {
      "cell_type": "code",
      "source": [
        "import pandas as pd\n",
        "from sklearn.metrics import confusion_matrix\n",
        "import seaborn as sns\n",
        "import matplotlib.pyplot as plt\n",
        "from sklearn.linear_model import LogisticRegression \n",
        "%matplotlib inline \n",
        "from sklearn.model_selection import train_test_split \n",
        "from sklearn import metrics \n"
      ],
      "metadata": {
        "id": "AOVo_yfgcXDL"
      },
      "execution_count": null,
      "outputs": []
    },
    {
      "cell_type": "code",
      "source": [
        "fig, axs = plt.subplots(1, 4, figsize=(14, 4))\n",
        "\n",
        "# Plot data on each subplot\n",
        "axs[0].hist(data['typeofaction'])\n",
        "axs[1].hist(data['amountofmoney'])\n",
        "axs[2].hist(data['typeoffraud'])\n",
        "axs[3].hist(data['isfraud'])\n",
        "\n",
        "# Set title for each subplot\n",
        "axs[0].set_title('1')\n",
        "axs[1].set_title('2')\n",
        "axs[2].set_title('3')\n",
        "axs[3].set_title('4')\n",
        "\n",
        "# Display the plot\n",
        "plt.show()"
      ],
      "metadata": {
        "colab": {
          "base_uri": "https://localhost:8080/",
          "height": 294
        },
        "id": "ZEAjoM_Hd757",
        "outputId": "fa274636-ffbc-4bf5-a234-0f234d969ab8"
      },
      "execution_count": null,
      "outputs": [
        {
          "output_type": "display_data",
          "data": {
            "text/plain": [
              "<Figure size 1008x288 with 4 Axes>"
            ],
            "image/png": "[encoded data removed]"
          },
          "metadata": {
            "needs_background": "light"
          }
        }
      ]
    },
    {
      "cell_type": "code",
      "source": [
        "# Group the data by isfraud and typeoffraud\n",
        "grouped_data = data.groupby(['isfraud', 'typeoffraud']).size().reset_index(name='count')\n",
        "print(grouped_data)"
      ],
      "metadata": {
        "colab": {
          "base_uri": "https://localhost:8080/"
        },
        "id": "H0ForucKhdfs",
        "outputId": "86cabdbe-de3c-4248-ed30-63523b5f4135"
      },
      "execution_count": null,
      "outputs": [
        {
          "output_type": "stream",
          "name": "stdout",
          "text": [
            "   isfraud typeoffraud  count\n",
            "0        0        none    941\n",
            "1        1       type1    423\n",
            "2        1       type2    465\n",
            "3        1       type3    511\n"
          ]
        }
      ]
    },
    {
      "cell_type": "markdown",
      "source": [
        "Fraud type 1,2,3 = 1399\n",
        "none = 941"
      ],
      "metadata": {
        "id": "hw-3MRVUhwo0"
      }
    },
    {
      "cell_type": "code",
      "source": [
        "sns.distplot(data['amountofmoney'])\n",
        "plt.title(\"Distribution of amountofmoney\")\n",
        "sns.despine()"
      ],
      "metadata": {
        "colab": {
          "base_uri": "https://localhost:8080/",
          "height": 486
        },
        "id": "pJn8FxAof4Sd",
        "outputId": "22e5b178-dd4b-4623-ddb1-c6f20a5d26cd"
      },
      "execution_count": null,
      "outputs": [
        {
          "output_type": "stream",
          "name": "stderr",
          "text": [
            "<ipython-input-123-71f3e7dc4241>:1: UserWarning: \n",
            "\n",
            "`distplot` is a deprecated function and will be removed in seaborn v0.14.0.\n",
            "\n",
            "Please adapt your code to use either `displot` (a figure-level function with\n",
            "similar flexibility) or `histplot` (an axes-level function for histograms).\n",
            "\n",
            "For a guide to updating your code to use the new functions, please see\n",
            "https://gist.github.com/mwaskom/de44147ed2974457ad6372750bbe5751\n",
            "\n",
            "  sns.distplot(data['amountofmoney'])\n"
          ]
        },
        {
          "output_type": "display_data",
          "data": {
            "text/plain": [
              "<Figure size 432x288 with 1 Axes>"
            ],
            "image/png": "[encoded data removed]"
          },
          "metadata": {
            "needs_background": "light"
          }
        }
      ]
    },
    {
      "cell_type": "markdown",
      "source": [
        "Transfer appears to be the most used in this dataset,in addition of that we can see that type3 of fraud is the most occurent. Finnaly, the data shows high consentration of small amount of money."
      ],
      "metadata": {
        "id": "acNTxrZAgIas"
      }
    },
    {
      "cell_type": "code",
      "source": [
        "# Convert the date column to Pandas datetime type\n",
        "data['date'] = pd.to_datetime(data['date'])\n",
        "# Group the data by date and day of the week\n",
        "grouped_data1 = data.groupby([data['date'].dt.date.rename('date_col'), data['date'].dt.dayofweek, 'isfraud' ]).size().reset_index(name='transaction_count')\n",
        "fraud_data = grouped_data1[grouped_data1['isfraud'] == 1]\n",
        "# Display the fraud data\n",
        "print(fraud_data)"
      ],
      "metadata": {
        "colab": {
          "base_uri": "https://localhost:8080/"
        },
        "id": "iorr0hLziv-l",
        "outputId": "26bc3788-8842-4dac-9ddb-5e6c21328db1"
      },
      "execution_count": null,
      "outputs": [
        {
          "output_type": "stream",
          "name": "stdout",
          "text": [
            "       date_col  date  isfraud  transaction_count\n",
            "1    2019-02-20     2        1                  1\n",
            "3    2019-02-21     3        1                 13\n",
            "5    2019-02-22     4        1                  8\n",
            "7    2019-02-23     5        1                  9\n",
            "9    2019-02-24     6        1                  7\n",
            "..          ...   ...      ...                ...\n",
            "293  2019-07-16     1        1                  8\n",
            "295  2019-07-17     2        1                  7\n",
            "297  2019-07-18     3        1                 10\n",
            "299  2019-07-19     4        1                  8\n",
            "301  2019-07-20     5        1                  6\n",
            "\n",
            "[151 rows x 4 columns]\n"
          ]
        }
      ]
    },
    {
      "cell_type": "code",
      "source": [
        "ax = fraud_data['date'].value_counts().sort_values().plot(kind='bar',\n",
        "                                    figsize=(10,4),\n",
        "                                    title=\"Count of day fraud occurred (ascending order)\")\n",
        "ax.set_xlabel(\"Days_of_the_week\")\n",
        "ax.set_ylabel(\"Frequency\")\n"
      ],
      "metadata": {
        "colab": {
          "base_uri": "https://localhost:8080/",
          "height": 310
        },
        "id": "bkCCP42qlwIC",
        "outputId": "1e213970-2887-4693-c596-e6b68ec92502"
      },
      "execution_count": null,
      "outputs": [
        {
          "output_type": "execute_result",
          "data": {
            "text/plain": [
              "Text(0, 0.5, 'Frequency')"
            ]
          },
          "metadata": {},
          "execution_count": 125
        },
        {
          "output_type": "display_data",
          "data": {
            "text/plain": [
              "<Figure size 720x288 with 1 Axes>"
            ],
            "image/png": "[encoded data removed]"
          },
          "metadata": {
            "needs_background": "light"
          }
        }
      ]
    },
    {
      "cell_type": "markdown",
      "source": [
        "Here I want to illustrate if wheater or not we have more fraud on specific day of the week it start on monday = 0 and sunday = 6\n",
        "On the graph we see that, fraud most occurs on Saturday and Friday (end of the week)"
      ],
      "metadata": {
        "id": "VFK4ZGyulZca"
      }
    },
    {
      "cell_type": "code",
      "source": [
        "from sklearn.preprocessing import OneHotEncoder\n",
        "# One-Hot Encode categorical features\n",
        "cat_features = ['typeofaction', 'sourceid', 'destinationid', 'amountofmoney', 'date', 'typeoffraud']\n",
        "enc = OneHotEncoder(handle_unknown='ignore')\n",
        "enc.fit(data[cat_features])\n",
        "encoded_features = enc.transform(data[cat_features]).toarray()\n",
        "data.drop(cat_features, axis=1, inplace=True)\n",
        "data = pd.concat([data, pd.DataFrame(encoded_features)], axis=1)"
      ],
      "metadata": {
        "id": "lJt8H2KzpmIn"
      },
      "execution_count": null,
      "outputs": []
    },
    {
      "cell_type": "code",
      "source": [
        "# Split the data into training and testing sets\n",
        "train_data = data.sample(frac=0.8, random_state=42)\n",
        "test_data = data.drop(train_data.index)"
      ],
      "metadata": {
        "id": "4L7VebTSdJTE"
      },
      "execution_count": null,
      "outputs": []
    },
    {
      "cell_type": "code",
      "source": [
        "data.shape"
      ],
      "metadata": {
        "colab": {
          "base_uri": "https://localhost:8080/"
        },
        "id": "FlrUomlCvCMO",
        "outputId": "293250be-ec9f-4dc6-a90f-59c261674d86"
      },
      "execution_count": null,
      "outputs": [
        {
          "output_type": "execute_result",
          "data": {
            "text/plain": [
              "(2340, 6708)"
            ]
          },
          "metadata": {},
          "execution_count": 131
        }
      ]
    },
    {
      "cell_type": "code",
      "source": [
        "data.info()"
      ],
      "metadata": {
        "colab": {
          "base_uri": "https://localhost:8080/"
        },
        "id": "fPP9k-x3oPS7",
        "outputId": "831e289a-9c0d-4a67-d762-3da98bf0846d"
      },
      "execution_count": null,
      "outputs": [
        {
          "output_type": "stream",
          "name": "stdout",
          "text": [
            "<class 'pandas.core.frame.DataFrame'>\n",
            "RangeIndex: 2340 entries, 0 to 2339\n",
            "Columns: 6708 entries, isfraud to 6706\n",
            "dtypes: float64(6707), int64(1)\n",
            "memory usage: 119.8 MB\n"
          ]
        }
      ]
    },
    {
      "cell_type": "code",
      "source": [
        "X = data.drop(['isfraud'], axis = 'columns')\n",
        "Label_Data = data['isfraud']"
      ],
      "metadata": {
        "id": "UGJRBtk-u2CX"
      },
      "execution_count": null,
      "outputs": []
    },
    {
      "cell_type": "code",
      "source": [
        "# Generate and plot imbalanced classification dataset\n",
        "from collections import Counter\n",
        "from matplotlib import pyplot\n",
        "from numpy import where\n",
        "# summarize class distribution\n",
        "counter = Counter(data['isfraud'])\n",
        "print(counter)\n",
        "# scatter plot of examples by class label\n",
        "for label, _ in counter.items():\n",
        "\trow_ix = where(data['isfraud'] == label)[0]"
      ],
      "metadata": {
        "colab": {
          "base_uri": "https://localhost:8080/"
        },
        "id": "tLWNBMICvL2O",
        "outputId": "b24dbae7-f63e-489f-855e-a8e5ad27e0fa"
      },
      "execution_count": null,
      "outputs": [
        {
          "output_type": "stream",
          "name": "stdout",
          "text": [
            "Counter({1: 1399, 0: 941})\n"
          ]
        }
      ]
    },
    {
      "cell_type": "code",
      "source": [
        "from sklearn.preprocessing import StandardScaler\n",
        "from sklearn.linear_model import LogisticRegression\n",
        "\n",
        "# Split the data into training and testing sets\n",
        "X_train, X_test, y_train, y_test = train_test_split(X, Label_Data, test_size=0.2, random_state=42)\n"
      ],
      "metadata": {
        "id": "jekjxG5pwK9_"
      },
      "execution_count": null,
      "outputs": []
    },
    {
      "cell_type": "code",
      "source": [
        "# Scale the data\n",
        "scaler = StandardScaler()\n",
        "X_train = scaler.fit_transform(X_train)\n",
        "X_test = scaler.transform(X_test)\n",
        "#Train a logistic regression model\n",
        "clf = LogisticRegression(random_state=42)\n",
        "clf.fit(X_train, y_train)\n",
        "# Predict the test data\n",
        "y_pred = clf.predict(X_test)"
      ],
      "metadata": {
        "id": "idWryzQAwMo-"
      },
      "execution_count": null,
      "outputs": []
    },
    {
      "cell_type": "code",
      "source": [
        "# Generate the confusion matrix\n",
        "cm = confusion_matrix(y_test, y_pred)\n",
        "sns.heatmap(cm, annot=True, fmt='g')\n",
        "# Calculate recall and precision\n",
        "recall = metrics.recall_score(y_test, y_pred)\n",
        "precision = metrics.precision_score(y_test, y_test)\n",
        "print(\"Recall:\", recall)\n",
        "print(\"Precision:\", precision)"
      ],
      "metadata": {
        "colab": {
          "base_uri": "https://localhost:8080/",
          "height": 300
        },
        "id": "w7iyjUxTv0wQ",
        "outputId": "a7ca14bb-3b40-46d2-b54d-0bbbb38e5351"
      },
      "execution_count": null,
      "outputs": [
        {
          "output_type": "stream",
          "name": "stdout",
          "text": [
            "Recall: 1.0\n",
            "Precision: 1.0\n"
          ]
        },
        {
          "output_type": "display_data",
          "data": {
            "text/plain": [
              "<Figure size 432x288 with 2 Axes>"
            ],
            "image/png": "[encoded data removed]"
          },
          "metadata": {
            "needs_background": "light"
          }
        }
      ]
    },
    {
      "cell_type": "markdown",
      "source": [
        "To go further we can print the F1 score :"
      ],
      "metadata": {
        "id": "KN9lucDnwor1"
      }
    },
    {
      "cell_type": "code",
      "source": [
        "from sklearn.metrics import f1_score\n",
        "f1 = f1_score(y_test, y_pred)\n",
        "print(\"F1 score:\", f1)"
      ],
      "metadata": {
        "colab": {
          "base_uri": "https://localhost:8080/"
        },
        "id": "1cxLht1cwiZt",
        "outputId": "8afd22c4-28a4-4202-eb09-57ff1e866fe5"
      },
      "execution_count": null,
      "outputs": [
        {
          "output_type": "stream",
          "name": "stdout",
          "text": [
            "F1 score: 0.9829351535836178\n"
          ]
        }
      ]
    },
    {
      "cell_type": "markdown",
      "source": [
        "Due to high score, we might check for overfitting ?"
      ],
      "metadata": {
        "id": "m6vksUfDxofk"
      }
    },
    {
      "cell_type": "code",
      "source": [
        "from sklearn.metrics import roc_curve, auc\n",
        "import matplotlib.pyplot as plt\n",
        "\n",
        "fpr, tpr, thresholds = roc_curve(y_test, y_pred)\n",
        "roc_auc = auc(fpr, tpr)\n",
        "\n",
        "# plot ROC curve\n",
        "plt.plot(fpr, tpr, label='ROC curve (area = %0.2f)' % roc_auc)\n",
        "plt.plot([0, 1], [0, 1], 'k--') # diagonal line for random model\n",
        "plt.xlabel('False Positive Rate')\n",
        "plt.ylabel('True Positive Rate')\n",
        "plt.title('Receiver Operating Characteristic')\n",
        "plt.legend(loc='lower right')\n",
        "plt.show()"
      ],
      "metadata": {
        "colab": {
          "base_uri": "https://localhost:8080/",
          "height": 295
        },
        "id": "pJNhS4F_xoKN",
        "outputId": "0201adf9-561f-4fd1-ca8e-d0063126db05"
      },
      "execution_count": null,
      "outputs": [
        {
          "output_type": "display_data",
          "data": {
            "text/plain": [
              "<Figure size 432x288 with 1 Axes>"
            ],
            "image/png": "[encoded data removed]"
          },
          "metadata": {
            "needs_background": "light"
          }
        }
      ]
    }
  ]
}